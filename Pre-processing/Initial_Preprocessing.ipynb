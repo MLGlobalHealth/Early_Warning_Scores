{
 "cells": [
  {
   "cell_type": "markdown",
   "metadata": {},
   "source": [
    "#### Processing the diagnoses/procedures/intensive care/blood tests data"
   ]
  },
  {
   "cell_type": "code",
   "execution_count": null,
   "metadata": {},
   "outputs": [],
   "source": [
    "### Import packages\n",
    "\n",
    "import os\n",
    "import polars as pl"
   ]
  },
  {
   "cell_type": "code",
   "execution_count": null,
   "metadata": {},
   "outputs": [],
   "source": [
    "# Specify the path\n",
    "path = \"/Users/jkv465/Desktop/Work_EWS/New_Data\"\n",
    "# Specify the working directory\n",
    "os.chdir(path)\n",
    "print(\"Current working directory: \", os.getcwd()) # And here we can check it"
   ]
  },
  {
   "cell_type": "code",
   "execution_count": null,
   "metadata": {},
   "outputs": [],
   "source": [
    "pl.scan_parquet(\"problemlist.parquet\").collect_schema()"
   ]
  },
  {
   "cell_type": "code",
   "execution_count": null,
   "metadata": {},
   "outputs": [],
   "source": [
    "# Opening the dataset of diagnoses\n",
    "\n",
    "diagnoses = pl.scan_parquet(\"diagnoses.parquet\")\n",
    "\n",
    "# Opening the dataset of basic demographics for individuals\n",
    "\n",
    "bitabel = pl.scan_parquet(\"bitabel.parquet\")"
   ]
  },
  {
   "cell_type": "code",
   "execution_count": null,
   "metadata": {},
   "outputs": [],
   "source": [
    "diagnoses.schema # The variables we are interested in"
   ]
  },
  {
   "cell_type": "code",
   "execution_count": null,
   "metadata": {},
   "outputs": [],
   "source": [
    "bitabel.schema"
   ]
  },
  {
   "cell_type": "code",
   "execution_count": null,
   "metadata": {},
   "outputs": [],
   "source": [
    "bitabel.collect(streaming=True).head(100)\n",
    "\n",
    "# We can see that PAT_ID is the EnterpriseID with first letter being replaced by \"Z\" and the number being +1"
   ]
  },
  {
   "cell_type": "code",
   "execution_count": null,
   "metadata": {},
   "outputs": [],
   "source": [
    "# Replace all \"NULL\" string values into nulls\n",
    "\n",
    "bitabel = bitabel.with_columns(\n",
    "    pl.col(pl.String).replace(\"NULL\",None)\n",
    ")"
   ]
  },
  {
   "cell_type": "code",
   "execution_count": null,
   "metadata": {},
   "outputs": [],
   "source": [
    "# Convert date of birth into a proper datetime without UTC included\n",
    "\n",
    "bitabel = bitabel.with_columns(\n",
    "    pl.col(\"Dødstidspunkt\").str.to_datetime(\"%Y-%m-%d %H:%M:%S %Z\").alias(\"Dødstidspunkt\"),\n",
    "    pl.col(\"fødselsdato\").dt.strftime(\"%Y-%m-%d %H:%M:%S %Z\").alias(\"fødselsdato\")\n",
    ").with_columns(\n",
    "    pl.col(\"fødselsdato\").str.to_datetime(\"%Y-%m-%d %H:%M:%S %Z\").alias(\"fødselsdato\")\n",
    ")"
   ]
  },
  {
   "cell_type": "code",
   "execution_count": null,
   "metadata": {},
   "outputs": [],
   "source": [
    "bitabel.collect()"
   ]
  },
  {
   "cell_type": "code",
   "execution_count": null,
   "metadata": {},
   "outputs": [],
   "source": [
    "# Save bitabel\n",
    "\n",
    "bitabel.sink_parquet(\"bitabel_newest.parquet\")"
   ]
  },
  {
   "cell_type": "markdown",
   "metadata": {},
   "source": [
    "\n",
    "#### Datetime modifications in the Diagnoses dataframe\n"
   ]
  },
  {
   "cell_type": "code",
   "execution_count": null,
   "metadata": {},
   "outputs": [],
   "source": [
    "# Replace all \"NULL\" string values into nulls\n",
    "\n",
    "diagnoses = diagnoses.with_columns(\n",
    "    pl.col(pl.String).replace(\"NULL\",None)\n",
    ")"
   ]
  },
  {
   "cell_type": "code",
   "execution_count": null,
   "metadata": {},
   "outputs": [],
   "source": [
    "# Convert the strings which are dates into datetime variables (diagnoses dataframe)\n",
    "\n",
    "diagnoses = diagnoses.with_columns(\n",
    "    pl.col(\"Kontakt slut\").str.to_datetime(\"%Y-%m-%d %H:%M:%S %Z\").alias(\"Kontakt slut\"),\n",
    "    pl.col(\"Kontakt start\").dt.strftime(\"%Y-%m-%d %H:%M:%S %Z\").alias(\"Kontakt start\")\n",
    ").with_columns(\n",
    "    pl.col(\"Kontakt start\").str.to_datetime(\"%Y-%m-%d %H:%M:%S %Z\").alias(\"Kontakt start\")\n",
    ")"
   ]
  },
  {
   "cell_type": "code",
   "execution_count": null,
   "metadata": {},
   "outputs": [],
   "source": [
    "# Implement PT_ID in diagnoses\n",
    "\n",
    "# Define a function that takes the EnterpriseID column, replaces first letter of the string and adds 1 to the number remaining\n",
    "\n",
    "def transform_column(column):\n",
    "    return (\n",
    "        column.str.replace(\"E\", \"Z\", literal=True).str.slice(0, 1) + \n",
    "        (column.str.slice(1).cast(pl.Int64) + 1).cast(pl.Utf8)\n",
    "    )\n",
    "\n",
    "diagnoses = diagnoses.with_columns(\n",
    "    transform_column(pl.col(\"EnterpriseID\")).alias(\"PT_ID\")\n",
    ")"
   ]
  },
  {
   "cell_type": "code",
   "execution_count": null,
   "metadata": {},
   "outputs": [],
   "source": [
    "diagnoses.collect(streaming=True).head(100)"
   ]
  },
  {
   "cell_type": "code",
   "execution_count": null,
   "metadata": {},
   "outputs": [],
   "source": [
    "# Relocate PAT_ID to be after EnterpriseID\n",
    "diagnoses = diagnoses.select([\n",
    "    \"EnterpriseID\", \n",
    "    \"PT_ID\", \n",
    "    *[col for col in diagnoses.columns if col not in [\"EnterpriseID\", \"PT_ID\"]]\n",
    "])"
   ]
  },
  {
   "cell_type": "code",
   "execution_count": null,
   "metadata": {},
   "outputs": [],
   "source": [
    "# Check the shape of the diagnoses dataframe\n",
    "\n",
    "diagnoses.collect(streaming = True).shape\n",
    "\n",
    "# The data has 67,467,961 million rows"
   ]
  },
  {
   "cell_type": "code",
   "execution_count": null,
   "metadata": {},
   "outputs": [],
   "source": [
    "# Check if there are NULLs in the dataframe\n",
    "\n",
    "diagnoses.collect(streaming = True).null_count()\n",
    "\n",
    "# We have some NA values in the admission numbers, we will drop these"
   ]
  },
  {
   "cell_type": "code",
   "execution_count": null,
   "metadata": {},
   "outputs": [],
   "source": [
    "# Drop the observations with missing hospitalization numbers (CSNs)\n",
    "\n",
    "diagnoses = diagnoses.drop_nulls(subset=\"CSN\")"
   ]
  },
  {
   "cell_type": "code",
   "execution_count": null,
   "metadata": {},
   "outputs": [],
   "source": [
    "# Let's check the shape of the diagnoses dataframe now\n",
    "\n",
    "diagnoses.collect(streaming = True).shape"
   ]
  },
  {
   "cell_type": "code",
   "execution_count": null,
   "metadata": {},
   "outputs": [],
   "source": [
    "# Now I want to see if there are multiple diagnoses per CSN\n",
    "\n",
    "csn_multiples = diagnoses.group_by([\"CSN\"]).agg(pl.col(\"Aktionsdiagnose kode\").count()).collect(streaming=True)\n",
    "\n",
    "# We see that there is a 1to1 correspondence of CSN and Action codes"
   ]
  },
  {
   "cell_type": "code",
   "execution_count": null,
   "metadata": {},
   "outputs": [],
   "source": [
    "# Use plotnine for plotting\n",
    "\n",
    "from plotnine import *"
   ]
  },
  {
   "cell_type": "code",
   "execution_count": null,
   "metadata": {},
   "outputs": [],
   "source": [
    "csn_multiples = csn_multiples.rename({\"Aktionsdiagnose kode\":\"Diagnosis_Codes\"})"
   ]
  },
  {
   "cell_type": "code",
   "execution_count": null,
   "metadata": {},
   "outputs": [],
   "source": [
    "csn_multiples.describe()"
   ]
  },
  {
   "cell_type": "code",
   "execution_count": null,
   "metadata": {},
   "outputs": [],
   "source": [
    "mult_csn = diagnoses.collect(streaming=True).group_by([\"CSN\"]).agg(pl.col(\"Aktionsdiagnose kode\").count())[\"Aktionsdiagnose kode\"].value_counts().sort(by = \"count\",descending=True).lazy()"
   ]
  },
  {
   "cell_type": "code",
   "execution_count": null,
   "metadata": {},
   "outputs": [],
   "source": [
    "mult_csn.sort(by = \"Aktionsdiagnose kode\").collect(streaming=True)"
   ]
  },
  {
   "cell_type": "code",
   "execution_count": null,
   "metadata": {},
   "outputs": [],
   "source": [
    "# See how many we have duplicated in terms of percentage\n",
    "\n",
    "mult_csn_perc = (mult_csn\n",
    ".with_columns(pl.col(\"count\")/pl.col(\"count\").sum().alias(\"diagnosis_perc\"))\n",
    ")"
   ]
  },
  {
   "cell_type": "code",
   "execution_count": null,
   "metadata": {},
   "outputs": [],
   "source": [
    "mult_csn_perc.collect(streaming=True)"
   ]
  },
  {
   "cell_type": "code",
   "execution_count": null,
   "metadata": {},
   "outputs": [],
   "source": [
    "# Rename column to be more readable\n",
    "\n",
    "mult_csn_perc = mult_csn_perc.sort(by = \"Aktionsdiagnose kode\").rename({\"Aktionsdiagnose kode\":\"Diagnoses\"})"
   ]
  },
  {
   "cell_type": "code",
   "execution_count": null,
   "metadata": {},
   "outputs": [],
   "source": [
    "\n",
    "bar_plot_multiples = (\n",
    "    ggplot(mult_csn_perc.collect(streaming = True).filter(pl.col(\"count\") >= 0.003),aes(x = \"Diagnoses\", y = \"count\", fill = \"factor(Diagnoses)\")) \n",
    "    + geom_col()\n",
    "    + scale_fill_hue()\n",
    "    + labs(fill = \"Number of diagnoses per CSN\", x = \"\", y = \"Percentage\")\n",
    "    + theme(legend_position = \"top\")\n",
    ").draw(show = False)"
   ]
  },
  {
   "cell_type": "code",
   "execution_count": null,
   "metadata": {},
   "outputs": [],
   "source": [
    "bar_plot_multiples"
   ]
  },
  {
   "cell_type": "code",
   "execution_count": null,
   "metadata": {},
   "outputs": [],
   "source": [
    "# Saving the figure now\n",
    "# bar_plot_duplicates.savefig(fname=\"Diagnoses_Per_CSN.png\",dpi=350)"
   ]
  },
  {
   "cell_type": "code",
   "execution_count": null,
   "metadata": {},
   "outputs": [],
   "source": [
    "# Check individuals with diagnoses per CSN\n",
    "\n",
    "result = (\n",
    "    diagnoses\n",
    "    .group_by(\"CSN\")\n",
    "    .agg(pl.col(\"Aktionsdiagnose kode\").count().alias(\"diagnosis_count\"))\n",
    "    .collect()\n",
    "    .filter(pl.col(\"diagnosis_count\") == 2)\n",
    ")"
   ]
  },
  {
   "cell_type": "code",
   "execution_count": null,
   "metadata": {},
   "outputs": [],
   "source": [
    "result"
   ]
  },
  {
   "cell_type": "code",
   "execution_count": null,
   "metadata": {},
   "outputs": [],
   "source": [
    "# Final modification\n",
    "\n",
    "diagnoses = diagnoses.select([\"EnterpriseID\",\"PT_ID\",\"CSN\",\"Department ID\", \"Aktionsdiagnose kode\", \"Aktionsdiagnose\"])"
   ]
  },
  {
   "cell_type": "code",
   "execution_count": null,
   "metadata": {},
   "outputs": [],
   "source": [
    "diagnoses.collect(streaming=True).null_count()"
   ]
  },
  {
   "cell_type": "code",
   "execution_count": null,
   "metadata": {},
   "outputs": [],
   "source": [
    "# Save diagnoses dataframe: diagnoses.sink_parquet(\"diagnoses_newest.parquet\")"
   ]
  },
  {
   "cell_type": "markdown",
   "metadata": {},
   "source": [
    "### Opening the procedures "
   ]
  },
  {
   "cell_type": "code",
   "execution_count": null,
   "metadata": {},
   "outputs": [],
   "source": [
    "procedures = pl.scan_parquet(\"procedures.parquet\")"
   ]
  },
  {
   "cell_type": "code",
   "execution_count": null,
   "metadata": {},
   "outputs": [],
   "source": [
    "procedures.schema"
   ]
  },
  {
   "cell_type": "code",
   "execution_count": null,
   "metadata": {},
   "outputs": [],
   "source": [
    "# Let's add the PT_ID in the procedures\n",
    "\n",
    "procedures = procedures.with_columns(\n",
    "    transform_column(pl.col(\"EnterpriseID\")).alias(\"PT_ID\")\n",
    ")"
   ]
  },
  {
   "cell_type": "code",
   "execution_count": null,
   "metadata": {},
   "outputs": [],
   "source": [
    "# Quick glimpse\n",
    "\n",
    "procedures.head(50).collect(streaming = True)"
   ]
  },
  {
   "cell_type": "code",
   "execution_count": null,
   "metadata": {},
   "outputs": [],
   "source": [
    "# Relocate PAT_ID to be after EnterpriseID\n",
    "\n",
    "procedures = procedures.select([\n",
    "    \"EnterpriseID\", \n",
    "    \"PT_ID\", \n",
    "    *[col for col in procedures.columns if col not in [\"EnterpriseID\", \"PT_ID\"]]\n",
    "])"
   ]
  },
  {
   "cell_type": "code",
   "execution_count": null,
   "metadata": {},
   "outputs": [],
   "source": [
    "# Rename some variables in procedures dataframe\n",
    "\n",
    "procedures = (\n",
    "    procedures\n",
    "    .rename({\"SKS-Kode\":\"SKS_Code\"})\n",
    "    .rename({\"Udført procedurer dato\":\"Procedure_Date\"})\n",
    ")\n"
   ]
  },
  {
   "cell_type": "code",
   "execution_count": null,
   "metadata": {},
   "outputs": [],
   "source": [
    "# Convert procedure date into a proper datetime without UTC included\n",
    "\n",
    "procedures = procedures.with_columns(\n",
    "    pl.col(\"Procedure_Date\").dt.strftime(\"%Y-%m-%d %H:%M:%S %Z\").alias(\"Procedure_Date\")\n",
    ").with_columns(\n",
    "    pl.col(\"Procedure_Date\").str.to_datetime(\"%Y-%m-%d %H:%M:%S %Z\").alias(\"Procedure_Date\")\n",
    ")"
   ]
  },
  {
   "cell_type": "code",
   "execution_count": null,
   "metadata": {},
   "outputs": [],
   "source": [
    "procedures.head(50).collect(streaming = True)"
   ]
  },
  {
   "cell_type": "code",
   "execution_count": null,
   "metadata": {},
   "outputs": [],
   "source": [
    "# Replace all \"NULL\" string values into nulls\n",
    "\n",
    "procedures = procedures.with_columns(\n",
    "    pl.col(pl.String).replace(\"NULL\",None)\n",
    ")"
   ]
  },
  {
   "cell_type": "code",
   "execution_count": null,
   "metadata": {},
   "outputs": [],
   "source": [
    "# Save it into a new parquet\n",
    "\n",
    "procedures.sink_parquet(\"procedures_newest.parquet\")"
   ]
  },
  {
   "cell_type": "markdown",
   "metadata": {},
   "source": [
    "### Got access to the cookbook with the SKS_Codes"
   ]
  },
  {
   "cell_type": "code",
   "execution_count": null,
   "metadata": {},
   "outputs": [],
   "source": [
    "cookbook = pl.read_csv(\"Metadata Diagnostics V3.tsv\", separator= '\\t')"
   ]
  },
  {
   "cell_type": "code",
   "execution_count": null,
   "metadata": {},
   "outputs": [],
   "source": [
    "cookbook"
   ]
  },
  {
   "cell_type": "code",
   "execution_count": null,
   "metadata": {},
   "outputs": [],
   "source": [
    "# Replace all \"NULL\" string values into nulls\n",
    "cookbook = cookbook.with_columns(\n",
    "    pl.col(pl.String).replace(\"NULL\",None)\n",
    ")"
   ]
  },
  {
   "cell_type": "code",
   "execution_count": null,
   "metadata": {},
   "outputs": [],
   "source": [
    "# Save cookbook\n",
    "\n",
    "cookbook.write_parquet(\"SKS_Codes_Cookbook.parquet\")"
   ]
  },
  {
   "cell_type": "code",
   "execution_count": null,
   "metadata": {},
   "outputs": [],
   "source": [
    "diagnoses.group_by([\"Aktionsdiagnose\", \"Aktionsdiagnose kode\"]).agg(pl.len().alias(\"n\")).sort(\"n\", descending=True).collect(streaming=True)"
   ]
  },
  {
   "cell_type": "code",
   "execution_count": null,
   "metadata": {},
   "outputs": [],
   "source": [
    "# Plotting the top-10 most occuring diagnoses\n",
    "\n",
    "(\n",
    "    ggplot(diagnoses.collect(streaming = True)[\"Aktionsdiagnose\"].value_counts(sort=True,name = \"n\").head(10).with_columns(pl.col(\"Aktionsdiagnose\").cast(pl.Categorical)),aes(x = \"Aktionsdiagnose\", y = \"n\", fill = \"Aktionsdiagnose\"))\n",
    "    + geom_col()\n",
    "    + theme(axis_text_x=element_text(rotation=45, hjust=1))\n",
    "    + theme(legend_position=\"none\")\n",
    "    + labs(x = \"Most frequent diagnoses\", y = \"\")\n",
    "    )"
   ]
  },
  {
   "cell_type": "markdown",
   "metadata": {},
   "source": [
    "### Intensive care unit data processing"
   ]
  },
  {
   "cell_type": "code",
   "execution_count": null,
   "metadata": {},
   "outputs": [],
   "source": [
    "ita = pl.scan_parquet(\"ita_respirator.parquet\")"
   ]
  },
  {
   "cell_type": "code",
   "execution_count": null,
   "metadata": {},
   "outputs": [],
   "source": [
    "# Let's have an overview of the intensive care unit data\n",
    "ita.schema"
   ]
  },
  {
   "cell_type": "code",
   "execution_count": null,
   "metadata": {},
   "outputs": [],
   "source": [
    "# Let's add the PT_ID in the intensive care unit dataframe\n",
    "\n",
    "ita = ita.with_columns(\n",
    "    transform_column(pl.col(\"EnterpriseID\")).alias(\"PT_ID\")\n",
    ")"
   ]
  },
  {
   "cell_type": "code",
   "execution_count": null,
   "metadata": {},
   "outputs": [],
   "source": [
    "# Relocate PAT_ID to be after EnterpriseID\n",
    "\n",
    "ita = ita.select([\n",
    "    \"EnterpriseID\", \n",
    "    \"PT_ID\", \n",
    "    *[col for col in ita.columns if col not in [\"EnterpriseID\", \"PT_ID\"]]\n",
    "])"
   ]
  },
  {
   "cell_type": "code",
   "execution_count": null,
   "metadata": {},
   "outputs": [],
   "source": [
    "ita.collect(streaming = True).head(50)"
   ]
  },
  {
   "cell_type": "code",
   "execution_count": null,
   "metadata": {},
   "outputs": [],
   "source": [
    "# I need to change the \"NULL\" into proper NAs\n",
    "\n",
    "ita = ita.with_columns(\n",
    "    pl.col(pl.String).replace(\"NULL\",None)\n",
    ")"
   ]
  },
  {
   "cell_type": "code",
   "execution_count": null,
   "metadata": {},
   "outputs": [],
   "source": [
    "# Convert the strings which are dates into datetime variables (diagnoses dataframe)\n",
    "\n",
    "ita = ita.with_columns(\n",
    "    pl.col(\"Respirator slut\").str.to_datetime(\"%Y-%m-%d %H:%M:%S %Z\").alias(\"Respirator slut\"),\n",
    "    pl.col(\"Respirator start\").dt.strftime(\"%Y-%m-%d %H:%M:%S %Z\").alias(\"Respirator start\")\n",
    ").with_columns(\n",
    "    pl.col(\"Respirator start\").str.to_datetime(\"%Y-%m-%d %H:%M:%S %Z\").alias(\"Respirator start\")\n",
    ").with_columns(\n",
    "    pl.col(\"ITA slut\").str.to_datetime(\"%Y-%m-%d %H:%M:%S %Z\").alias(\"ITA slut\"),\n",
    "    pl.col(\"ITA start\").dt.strftime(\"%Y-%m-%d %H:%M:%S %Z\").alias(\"ITA start\")\n",
    ").with_columns(\n",
    "    pl.col(\"ITA start\").str.to_datetime(\"%Y-%m-%d %H:%M:%S %Z\").alias(\"ITA start\")\n",
    ")"
   ]
  },
  {
   "cell_type": "code",
   "execution_count": null,
   "metadata": {},
   "outputs": [],
   "source": [
    "ita.collect(streaming = True).head(50)"
   ]
  },
  {
   "cell_type": "code",
   "execution_count": null,
   "metadata": {},
   "outputs": [],
   "source": [
    "ita.sink_parquet(\"intensive_care.parquet\")"
   ]
  },
  {
   "cell_type": "markdown",
   "metadata": {},
   "source": [
    "### Opening the blood tests"
   ]
  },
  {
   "cell_type": "code",
   "execution_count": null,
   "metadata": {},
   "outputs": [],
   "source": [
    "tests = pl.scan_parquet(\"prøvesvar.parquet\")"
   ]
  },
  {
   "cell_type": "code",
   "execution_count": null,
   "metadata": {},
   "outputs": [],
   "source": [
    "# Check the schema\n",
    "\n",
    "tests.schema"
   ]
  },
  {
   "cell_type": "code",
   "execution_count": null,
   "metadata": {},
   "outputs": [],
   "source": [
    "tests.collect(streaming = True).head(50)"
   ]
  },
  {
   "cell_type": "code",
   "execution_count": null,
   "metadata": {},
   "outputs": [],
   "source": [
    "def transform_column(column):\n",
    "    return (\n",
    "        column.str.replace(\"E\", \"Z\", literal=True).str.slice(0, 1) + \n",
    "        (column.str.slice(1).cast(pl.Int64) + 1).cast(pl.Utf8)\n",
    "    )\n"
   ]
  },
  {
   "cell_type": "code",
   "execution_count": null,
   "metadata": {},
   "outputs": [],
   "source": [
    "# Creation of PT_ID column\n",
    "\n",
    "tests = tests.rename({\"V1\":\"EnterpriseID\", \"V2\":\"Blood_Test_Code\", \"V3\":\"Blood_Test_Name\", \"V4\":\"Blood_Test_Value\", \"V5\":\"Blood_Test_Status\", \"V6\":\"Blood_Test_Start\", \"V7\":\"Blood_Test_End\"})\n",
    "\n",
    "tests = tests.with_columns(\n",
    "    transform_column(pl.col(\"EnterpriseID\")).alias(\"PT_ID\")\n",
    ")\n"
   ]
  },
  {
   "cell_type": "code",
   "execution_count": null,
   "metadata": {},
   "outputs": [],
   "source": [
    "# Relocate PAT_ID to be after EnterpriseID\n",
    "\n",
    "tests = tests.select([\n",
    "    \"EnterpriseID\", \n",
    "    \"PT_ID\", \n",
    "    *[col for col in tests.collect_schema().names() if col not in [\"EnterpriseID\", \"PT_ID\"]]\n",
    "])"
   ]
  },
  {
   "cell_type": "code",
   "execution_count": null,
   "metadata": {},
   "outputs": [],
   "source": [
    "# First let's convert the blood test dates into proper datetime objects\n",
    "\n",
    "tests = tests.with_columns(\n",
    "    pl.col(\"Blood_Test_Start\").dt.strftime(\"%Y-%m-%d %H:%M:%S %Z\").alias(\"Blood_Test_Start\")\n",
    ").with_columns(\n",
    "    pl.col(\"Blood_Test_Start\").str.to_datetime(\"%Y-%m-%d %H:%M:%S %Z\").alias(\"Blood_Test_Start\")\n",
    ").with_columns(\n",
    "    pl.col(\"Blood_Test_End\").dt.strftime(\"%Y-%m-%d %H:%M:%S %Z\").alias(\"Blood_Test_End\")\n",
    ").with_columns(\n",
    "    pl.col(\"Blood_Test_End\").str.to_datetime(\"%Y-%m-%d %H:%M:%S %Z\").alias(\"Blood_Test_End\")\n",
    ")"
   ]
  },
  {
   "cell_type": "code",
   "execution_count": null,
   "metadata": {},
   "outputs": [],
   "source": [
    "# Check unique blood tests\n",
    "\n",
    "tests.collect(streaming = True)[\"Blood_Test_Name\"].unique()\n",
    "\n",
    "# We have these unique blood test names\n"
   ]
  },
  {
   "cell_type": "code",
   "execution_count": null,
   "metadata": {},
   "outputs": [],
   "source": [
    "tests.collect(streaming = True)[\"Blood_Test_Code\"].unique()"
   ]
  },
  {
   "cell_type": "code",
   "execution_count": null,
   "metadata": {},
   "outputs": [],
   "source": [
    "tests = tests.collect(streaming = True).pivot(values=\"Blood_Test_Value\",index=[\"EnterpriseID\", \"PT_ID\", \"Blood_Test_Status\", \"Blood_Test_Start\", \"Blood_Test_End\"],on=\"Blood_Test_Name\",aggregate_function=\"first\").lazy()"
   ]
  },
  {
   "cell_type": "code",
   "execution_count": null,
   "metadata": {},
   "outputs": [],
   "source": [
    "tests = tests.sort([\"PT_ID\",\"Blood_Test_Start\"])"
   ]
  },
  {
   "cell_type": "code",
   "execution_count": null,
   "metadata": {},
   "outputs": [],
   "source": [
    "tests = tests.filter(pl.col(\"Blood_Test_Status\") == \"Endelig\")"
   ]
  },
  {
   "cell_type": "code",
   "execution_count": null,
   "metadata": {},
   "outputs": [],
   "source": [
    "tests.collect(streaming = True).head(50)"
   ]
  },
  {
   "cell_type": "code",
   "execution_count": null,
   "metadata": {},
   "outputs": [],
   "source": [
    "# Check unusual values in the blood tests\n",
    "\n",
    "columns_to_analyse = tests.columns[-11:]"
   ]
  },
  {
   "cell_type": "code",
   "execution_count": null,
   "metadata": {},
   "outputs": [],
   "source": [
    "results = {}\n",
    "\n",
    "for column in columns_to_analyse:\n",
    "    filtered = tests.collect(streaming=True)[column].value_counts(sort = True).lazy().filter(pl.col(column).str.contains(r\"^[A-Za-z]\")).collect(streaming = True)\n",
    "\n",
    "    results[column] = filtered\n"
   ]
  },
  {
   "cell_type": "code",
   "execution_count": null,
   "metadata": {},
   "outputs": [],
   "source": [
    "results[\"Alanintransaminase [ALAT];P\"]"
   ]
  },
  {
   "cell_type": "code",
   "execution_count": null,
   "metadata": {},
   "outputs": [],
   "source": [
    "results[\"Albumin;P\"]"
   ]
  },
  {
   "cell_type": "code",
   "execution_count": null,
   "metadata": {},
   "outputs": [],
   "source": [
    "results[\"C-reaktivt protein [CRP];P\"]"
   ]
  },
  {
   "cell_type": "code",
   "execution_count": null,
   "metadata": {},
   "outputs": [],
   "source": [
    "results[\"Hæmoglobin;B\"]"
   ]
  },
  {
   "cell_type": "code",
   "execution_count": null,
   "metadata": {},
   "outputs": [],
   "source": [
    "results[\"Kreatinin;P\"]"
   ]
  },
  {
   "cell_type": "code",
   "execution_count": null,
   "metadata": {},
   "outputs": [],
   "source": [
    "results[\"Laktat;P(aB)\"]"
   ]
  },
  {
   "cell_type": "code",
   "execution_count": null,
   "metadata": {},
   "outputs": [],
   "source": [
    "results[\"Laktat;P(vB)\"]"
   ]
  },
  {
   "cell_type": "code",
   "execution_count": null,
   "metadata": {},
   "outputs": [],
   "source": [
    "results[\"Laktatdehydrogenase [LDH];P\"]"
   ]
  },
  {
   "cell_type": "code",
   "execution_count": null,
   "metadata": {},
   "outputs": [],
   "source": [
    "results[\"Leukocytter;B\"]"
   ]
  },
  {
   "cell_type": "code",
   "execution_count": null,
   "metadata": {},
   "outputs": [],
   "source": [
    "results[\"Trombocytter;B\"]"
   ]
  },
  {
   "cell_type": "code",
   "execution_count": null,
   "metadata": {},
   "outputs": [],
   "source": [
    "results[\"Troponin T;P\"]"
   ]
  },
  {
   "cell_type": "code",
   "execution_count": null,
   "metadata": {},
   "outputs": [],
   "source": [
    "results_v2 = {}\n",
    "\n",
    "for column in columns_to_analyse:\n",
    "    filtered_v2 = tests.collect(streaming=True)[column].value_counts(sort = True).lazy().filter(pl.col(column).str.contains(r\"^(<|>|=)\")).collect(streaming = True)\n",
    "\n",
    "    results_v2[column] = filtered_v2\n"
   ]
  },
  {
   "cell_type": "code",
   "execution_count": null,
   "metadata": {},
   "outputs": [],
   "source": [
    "results_v2[\"Alanintransaminase [ALAT];P\"]"
   ]
  },
  {
   "cell_type": "code",
   "execution_count": null,
   "metadata": {},
   "outputs": [],
   "source": [
    "results_v2[\"Albumin;P\"]"
   ]
  },
  {
   "cell_type": "code",
   "execution_count": null,
   "metadata": {},
   "outputs": [],
   "source": [
    "results_v2[\"C-reaktivt protein [CRP];P\"]"
   ]
  },
  {
   "cell_type": "code",
   "execution_count": null,
   "metadata": {},
   "outputs": [],
   "source": [
    "results_v2[\"Hæmoglobin;B\"]"
   ]
  },
  {
   "cell_type": "code",
   "execution_count": null,
   "metadata": {},
   "outputs": [],
   "source": [
    "results_v2[\"Kreatinin;P\"]"
   ]
  },
  {
   "cell_type": "code",
   "execution_count": null,
   "metadata": {},
   "outputs": [],
   "source": [
    "results_v2[\"Laktat;P(aB)\"]"
   ]
  },
  {
   "cell_type": "code",
   "execution_count": null,
   "metadata": {},
   "outputs": [],
   "source": [
    "results_v2[\"Laktat;P(vB)\"]"
   ]
  },
  {
   "cell_type": "code",
   "execution_count": null,
   "metadata": {},
   "outputs": [],
   "source": [
    "results_v2[\"Laktatdehydrogenase [LDH];P\"]"
   ]
  },
  {
   "cell_type": "code",
   "execution_count": null,
   "metadata": {},
   "outputs": [],
   "source": [
    "results_v2[\"Leukocytter;B\"]"
   ]
  },
  {
   "cell_type": "code",
   "execution_count": null,
   "metadata": {},
   "outputs": [],
   "source": [
    "results_v2[\"Trombocytter;B\"]"
   ]
  },
  {
   "cell_type": "code",
   "execution_count": null,
   "metadata": {},
   "outputs": [],
   "source": [
    "results_v2[\"Troponin T;P\"]"
   ]
  },
  {
   "cell_type": "code",
   "execution_count": null,
   "metadata": {},
   "outputs": [],
   "source": [
    "# We need to impute the values of blood tests starting with a letter to NULL\n",
    "\n",
    "last_11_cols = tests.columns[-11:]"
   ]
  },
  {
   "cell_type": "code",
   "execution_count": null,
   "metadata": {},
   "outputs": [],
   "source": [
    "for col in last_11_cols:\n",
    "    tests = tests.with_columns(\n",
    "        pl.when(pl.col(col).str.contains(r\"^[A-Za-z]\"))\n",
    "        .then(None)\n",
    "        .otherwise(pl.col(col))\n",
    "        .alias(col))"
   ]
  },
  {
   "cell_type": "code",
   "execution_count": null,
   "metadata": {},
   "outputs": [],
   "source": [
    "tests = tests.lazy()"
   ]
  },
  {
   "cell_type": "code",
   "execution_count": null,
   "metadata": {},
   "outputs": [],
   "source": [
    "# Save the tests\n",
    "\n",
    "tests.sink_parquet(\"blood_tests_newest.parquet\")"
   ]
  }
 ],
 "metadata": {
  "kernelspec": {
   "display_name": "Python 3",
   "language": "python",
   "name": "python3"
  },
  "language_info": {
   "codemirror_mode": {
    "name": "ipython",
    "version": 3
   },
   "file_extension": ".py",
   "mimetype": "text/x-python",
   "name": "python",
   "nbconvert_exporter": "python",
   "pygments_lexer": "ipython3",
   "version": "3.11.0"
  }
 },
 "nbformat": 4,
 "nbformat_minor": 2
}
