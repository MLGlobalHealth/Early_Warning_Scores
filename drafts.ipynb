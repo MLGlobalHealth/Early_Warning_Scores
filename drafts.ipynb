{
 "cells": [
  {
   "cell_type": "code",
   "execution_count": 2,
   "metadata": {},
   "outputs": [
    {
     "name": "stdout",
     "output_type": "stream",
     "text": [
      "bitabel_newest.parquet\t    intensive_care.parquet\n",
      "blood_tests_newest.parquet  procedures_newest.parquet\n",
      "diagnoses_newest.parquet    SKS_Codes_Cookbook.parquet\n"
     ]
    }
   ],
   "source": [
    "!ls ~/data/Diagnoses_ITA_Procedures/"
   ]
  },
  {
   "cell_type": "code",
   "execution_count": 135,
   "metadata": {},
   "outputs": [],
   "source": [
    "import math\n",
    "\n",
    "import numpy as np\n",
    "import pandas as pd\n",
    "import polars as pl"
   ]
  },
  {
   "cell_type": "code",
   "execution_count": 136,
   "metadata": {},
   "outputs": [],
   "source": [
    "data_folder = \"/home/nclow23/data/Diagnoses_ITA_Procedures\"\n",
    "\n",
    "def read_parquet(fname):\n",
    "    df = pd.read_parquet(f\"{data_folder}/{fname}.parquet\")\n",
    "\n",
    "    print(df.shape)\n",
    "\n",
    "    return df\n",
    "\n",
    "\n",
    "def get_sks_kapitler(fname_in=\"public_data/sks.csv\", fname_out=\"public_data/sks_kapitler.csv\"):\n",
    "    real_sks = pd.read_csv(fname_in, sep=\";\", header=2)\n",
    "\n",
    "    real_sks.query(\"Tekst.str.startswith('Kap.')\", inplace=True)\n",
    "\n",
    "    real_sks.drop(\"Kode\", axis=1, inplace=True)\n",
    "\n",
    "    sks_kaps = real_sks.Tekst.str.split(\": \", expand=True).rename(\n",
    "        columns={0: \"Kap\", 1: \"Desc\"}\n",
    "    )\n",
    "\n",
    "    sks_kaps[[\"Desc\", \"Range\"]] = sks_kaps.Desc.str.split(\"[\", expand=True)\n",
    "\n",
    "    sks_kaps.Range = sks_kaps.Range.apply(lambda x: x[1:-1])\n",
    "\n",
    "    sks_kaps[[\"Range_Min\", \"Range_Max\"]] = sks_kaps.Range.str.split(\"-\", expand=True)\n",
    "\n",
    "    sks_kaps.set_index(\"Kap\", inplace=True)\n",
    "\n",
    "    sks_kaps.to_csv(fname_out)\n",
    "\n",
    "\n",
    "def get_sks_mapping(fname_in=\"public_data/sks.csv\", fname_out=\"public_data/sks_mapping.csv\"):\n",
    "    real_sks = pd.read_csv(fname_in, sep=\";\", header=2)\n",
    "\n",
    "    kap = \"\"\n",
    "\n",
    "    data = {}\n",
    "\n",
    "    for idx, row in real_sks.iterrows():\n",
    "        if row.Tekst.startswith(\"Kap.\"):\n",
    "            kap = row.Tekst\n",
    "        try:\n",
    "            if math.isnan(row.Kode):\n",
    "                continue\n",
    "        except TypeError:\n",
    "            if len(row.Kode) > 2:\n",
    "                data[row.Kode] = kap\n",
    "\n",
    "    data[\"D\"] = np.nan\n",
    "    data[np.nan] = np.nan\n",
    "\n",
    "    real_sks[\"Kapitel\"] = real_sks.Kode.apply(lambda x: data[x])\n",
    "\n",
    "    real_sks[[\"Kap_n\", \"Kap_desc\"]] = real_sks.Kapitel.str.split(\": \", expand=True)\n",
    "\n",
    "    real_sks.dropna(inplace=True)\n",
    "\n",
    "    real_sks[\"Kap_n\"] = real_sks.Kap_n.apply(lambda x: x.split(\".\")[1].strip())\n",
    "\n",
    "    real_sks.set_index(\"Kode\").to_csv(fname_out)"
   ]
  },
  {
   "cell_type": "code",
   "execution_count": 137,
   "metadata": {},
   "outputs": [
    {
     "name": "stdout",
     "output_type": "stream",
     "text": [
      "(65632899, 6)\n"
     ]
    }
   ],
   "source": [
    "di = read_parquet(\"diagnoses_newest\")"
   ]
  },
  {
   "cell_type": "code",
   "execution_count": 8,
   "metadata": {},
   "outputs": [
    {
     "data": {
      "text/html": [
       "<div>\n",
       "<style scoped>\n",
       "    .dataframe tbody tr th:only-of-type {\n",
       "        vertical-align: middle;\n",
       "    }\n",
       "\n",
       "    .dataframe tbody tr th {\n",
       "        vertical-align: top;\n",
       "    }\n",
       "\n",
       "    .dataframe thead th {\n",
       "        text-align: right;\n",
       "    }\n",
       "</style>\n",
       "<table border=\"1\" class=\"dataframe\">\n",
       "  <thead>\n",
       "    <tr style=\"text-align: right;\">\n",
       "      <th></th>\n",
       "      <th>EnterpriseID</th>\n",
       "      <th>PT_ID</th>\n",
       "      <th>CSN</th>\n",
       "      <th>Department ID</th>\n",
       "      <th>Aktionsdiagnose kode</th>\n",
       "      <th>Aktionsdiagnose</th>\n",
       "    </tr>\n",
       "  </thead>\n",
       "  <tbody>\n",
       "    <tr>\n",
       "      <th>0</th>\n",
       "      <td>E2910733</td>\n",
       "      <td>Z2910734</td>\n",
       "      <td>62770176</td>\n",
       "      <td>1481</td>\n",
       "      <td>DZ031DA</td>\n",
       "      <td>Obs. pga mistanke om kræft i tyktarmen</td>\n",
       "    </tr>\n",
       "    <tr>\n",
       "      <th>1</th>\n",
       "      <td>E1405190</td>\n",
       "      <td>Z1405191</td>\n",
       "      <td>65657549</td>\n",
       "      <td>1002394</td>\n",
       "      <td>DR339B</td>\n",
       "      <td>Akut urinretention</td>\n",
       "    </tr>\n",
       "    <tr>\n",
       "      <th>2</th>\n",
       "      <td>E2092618</td>\n",
       "      <td>Z2092619</td>\n",
       "      <td>57352128</td>\n",
       "      <td>1000333</td>\n",
       "      <td>DI109</td>\n",
       "      <td>Essentiel hypertension</td>\n",
       "    </tr>\n",
       "    <tr>\n",
       "      <th>3</th>\n",
       "      <td>E1021114</td>\n",
       "      <td>Z1021115</td>\n",
       "      <td>77401770</td>\n",
       "      <td>426</td>\n",
       "      <td>DM199</td>\n",
       "      <td>Artrose UNS</td>\n",
       "    </tr>\n",
       "    <tr>\n",
       "      <th>4</th>\n",
       "      <td>E1875864</td>\n",
       "      <td>Z1875865</td>\n",
       "      <td>65922690</td>\n",
       "      <td>1002226</td>\n",
       "      <td>DS828D</td>\n",
       "      <td>Ankelfraktur UNS</td>\n",
       "    </tr>\n",
       "  </tbody>\n",
       "</table>\n",
       "</div>"
      ],
      "text/plain": [
       "  EnterpriseID     PT_ID       CSN Department ID Aktionsdiagnose kode  \\\n",
       "0     E2910733  Z2910734  62770176          1481              DZ031DA   \n",
       "1     E1405190  Z1405191  65657549       1002394               DR339B   \n",
       "2     E2092618  Z2092619  57352128       1000333                DI109   \n",
       "3     E1021114  Z1021115  77401770           426                DM199   \n",
       "4     E1875864  Z1875865  65922690       1002226               DS828D   \n",
       "\n",
       "                          Aktionsdiagnose  \n",
       "0  Obs. pga mistanke om kræft i tyktarmen  \n",
       "1                      Akut urinretention  \n",
       "2                  Essentiel hypertension  \n",
       "3                             Artrose UNS  \n",
       "4                        Ankelfraktur UNS  "
      ]
     },
     "execution_count": 8,
     "metadata": {},
     "output_type": "execute_result"
    }
   ],
   "source": [
    "di.head()"
   ]
  },
  {
   "cell_type": "markdown",
   "metadata": {},
   "source": [
    "## Apply SKS chapter mapping in Pandas"
   ]
  },
  {
   "cell_type": "code",
   "execution_count": 124,
   "metadata": {},
   "outputs": [],
   "source": [
    "sks_mapping = pd.read_csv(\"public_data/sks_mapping.csv\", index_col=0)\n",
    "\n",
    "sks_dict = sks_mapping[\"Kap_n\"].to_dict()"
   ]
  },
  {
   "cell_type": "code",
   "execution_count": 130,
   "metadata": {},
   "outputs": [],
   "source": [
    "di[\"SKS_group\"] = di[\"Aktionsdiagnose kode\"].apply(\n",
    "    lambda x: sks_dict.get(\n",
    "        x,\n",
    "        sks_dict.get(\n",
    "            x[:-1], float(\"nan\")\n",
    "        )\n",
    "    )\n",
    ")"
   ]
  },
  {
   "cell_type": "code",
   "execution_count": 134,
   "metadata": {},
   "outputs": [],
   "source": [
    "di.to_parquet(f\"{data_folder}/diagnoses_newest_with_sks_group.parquet\")"
   ]
  },
  {
   "cell_type": "markdown",
   "metadata": {},
   "source": [
    "## Same thing in Polars"
   ]
  },
  {
   "cell_type": "code",
   "execution_count": 142,
   "metadata": {},
   "outputs": [],
   "source": [
    "dipl = pl.scan_parquet(f\"{data_folder}/diagnoses_newest.parquet\")"
   ]
  },
  {
   "cell_type": "code",
   "execution_count": 171,
   "metadata": {},
   "outputs": [],
   "source": [
    "dipl.select(\n",
    "    \"Aktionsdiagnose kode\",\n",
    "    pl.col(\"Aktionsdiagnose kode\")\n",
    "    .map_elements(\n",
    "        lambda x: sks_dict.get(x, sks_dict.get(x[:-1], float(\"nan\"))),\n",
    "        return_dtype=pl.String,\n",
    "    )\n",
    "    .alias(\"SKS_group\"),\n",
    ").sink_parquet(f\"{data_folder}/diagnoses_newest_with_sks_group.parquet\")"
   ]
  }
 ],
 "metadata": {
  "kernelspec": {
   "display_name": "ada",
   "language": "python",
   "name": "python3"
  },
  "language_info": {
   "codemirror_mode": {
    "name": "ipython",
    "version": 3
   },
   "file_extension": ".py",
   "mimetype": "text/x-python",
   "name": "python",
   "nbconvert_exporter": "python",
   "pygments_lexer": "ipython3",
   "version": "3.10.10"
  }
 },
 "nbformat": 4,
 "nbformat_minor": 2
}
