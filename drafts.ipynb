{
 "cells": [
  {
   "cell_type": "code",
   "execution_count": 2,
   "metadata": {},
   "outputs": [
    {
     "name": "stdout",
     "output_type": "stream",
     "text": [
      "bitabel_newest.parquet\t    intensive_care.parquet\n",
      "blood_tests_newest.parquet  procedures_newest.parquet\n",
      "diagnoses_newest.parquet    SKS_Codes_Cookbook.parquet\n"
     ]
    }
   ],
   "source": [
    "!ls ~/data/Diagnoses_ITA_Procedures/"
   ]
  },
  {
   "cell_type": "code",
   "execution_count": 3,
   "metadata": {},
   "outputs": [],
   "source": [
    "import math\n",
    "\n",
    "import numpy as np\n",
    "import pandas as pd\n",
    "import polars as pl"
   ]
  },
  {
   "cell_type": "code",
   "execution_count": 4,
   "metadata": {},
   "outputs": [],
   "source": [
    "data_folder = \"/home/nclow23/data/Diagnoses_ITA_Procedures\"\n",
    "\n",
    "def read_parquet(fname):\n",
    "    df = pd.read_parquet(f\"{data_folder}/{fname}.parquet\")\n",
    "\n",
    "    print(df.shape)\n",
    "\n",
    "    return df\n",
    "\n",
    "\n",
    "def get_sks_kapitler(fname_in=\"public_data/sks.csv\", fname_out=\"public_data/sks_kapitler.csv\"):\n",
    "    real_sks = pd.read_csv(fname_in, sep=\";\", header=2)\n",
    "\n",
    "    real_sks.query(\"Tekst.str.startswith('Kap.')\", inplace=True)\n",
    "\n",
    "    real_sks.drop(\"Kode\", axis=1, inplace=True)\n",
    "\n",
    "    sks_kaps = real_sks.Tekst.str.split(\": \", expand=True).rename(\n",
    "        columns={0: \"Kap\", 1: \"Desc\"}\n",
    "    )\n",
    "\n",
    "    sks_kaps[[\"Desc\", \"Range\"]] = sks_kaps.Desc.str.split(\"[\", expand=True)\n",
    "\n",
    "    sks_kaps.Range = sks_kaps.Range.apply(lambda x: x[1:-1])\n",
    "\n",
    "    sks_kaps[[\"Range_Min\", \"Range_Max\"]] = sks_kaps.Range.str.split(\"-\", expand=True)\n",
    "\n",
    "    sks_kaps.set_index(\"Kap\", inplace=True)\n",
    "\n",
    "    sks_kaps.to_csv(fname_out)\n",
    "\n",
    "\n",
    "def get_sks_mapping(fname_in=\"public_data/sks.csv\", fname_out=\"public_data/sks_mapping.csv\"):\n",
    "    real_sks = pd.read_csv(fname_in, sep=\";\", header=2)\n",
    "\n",
    "    kap = \"\"\n",
    "\n",
    "    data = {}\n",
    "\n",
    "    for idx, row in real_sks.iterrows():\n",
    "        if row.Tekst.startswith(\"Kap.\"):\n",
    "            kap = row.Tekst\n",
    "        try:\n",
    "            if math.isnan(row.Kode):\n",
    "                continue\n",
    "        except TypeError:\n",
    "            if len(row.Kode) > 2:\n",
    "                data[row.Kode] = kap\n",
    "\n",
    "    data[\"D\"] = np.nan\n",
    "    data[np.nan] = np.nan\n",
    "\n",
    "    real_sks[\"Kapitel\"] = real_sks.Kode.apply(lambda x: data[x])\n",
    "\n",
    "    real_sks[[\"Kap_n\", \"Kap_desc\"]] = real_sks.Kapitel.str.split(\": \", expand=True)\n",
    "\n",
    "    real_sks.dropna(inplace=True)\n",
    "\n",
    "    real_sks[\"Kap_n\"] = real_sks.Kap_n.apply(lambda x: x.split(\".\")[1].strip())\n",
    "\n",
    "    real_sks.set_index(\"Kode\").to_csv(fname_out)"
   ]
  },
  {
   "cell_type": "code",
   "execution_count": 3,
   "metadata": {},
   "outputs": [],
   "source": [
    "sks_mapping = pd.read_csv(\"public_data/sks_mapping.csv\", index_col=0)\n",
    "\n",
    "sks_dict = sks_mapping[\"Kap_desc\"].to_dict()"
   ]
  },
  {
   "cell_type": "markdown",
   "metadata": {},
   "source": [
    "## Pandas"
   ]
  },
  {
   "cell_type": "markdown",
   "metadata": {},
   "source": [
    "### Apply SKS chapter mapping"
   ]
  },
  {
   "cell_type": "code",
   "execution_count": 3,
   "metadata": {},
   "outputs": [
    {
     "name": "stdout",
     "output_type": "stream",
     "text": [
      "(65632899, 6)\n"
     ]
    }
   ],
   "source": [
    "di = read_parquet(\"diagnoses_newest\")"
   ]
  },
  {
   "cell_type": "code",
   "execution_count": 130,
   "metadata": {},
   "outputs": [],
   "source": [
    "di[\"SKS_group\"] = di[\"Aktionsdiagnose kode\"].apply(\n",
    "    lambda x: sks_dict.get(\n",
    "        x,\n",
    "        sks_dict.get(\n",
    "            x[:-1], float(\"nan\")\n",
    "        )\n",
    "    )\n",
    ")"
   ]
  },
  {
   "cell_type": "code",
   "execution_count": 134,
   "metadata": {},
   "outputs": [],
   "source": [
    "di.to_parquet(f\"{data_folder}/diagnoses_newest_with_sks_group.parquet\")"
   ]
  },
  {
   "cell_type": "markdown",
   "metadata": {},
   "source": [
    "### Impute median in biomarker columns from the blood tests"
   ]
  },
  {
   "cell_type": "markdown",
   "metadata": {},
   "source": [
    "## Polars"
   ]
  },
  {
   "cell_type": "markdown",
   "metadata": {},
   "source": [
    "### Apply SKS chapter mapping"
   ]
  },
  {
   "cell_type": "code",
   "execution_count": 4,
   "metadata": {},
   "outputs": [],
   "source": [
    "dipl = pl.scan_parquet(f\"{data_folder}/diagnoses_newest.parquet\")"
   ]
  },
  {
   "cell_type": "code",
   "execution_count": 9,
   "metadata": {},
   "outputs": [
    {
     "data": {
      "text/html": [
       "<div><style>\n",
       ".dataframe > thead > tr,\n",
       ".dataframe > tbody > tr {\n",
       "  text-align: right;\n",
       "  white-space: pre-wrap;\n",
       "}\n",
       "</style>\n",
       "<small>shape: (65_632_899, 2)</small><table border=\"1\" class=\"dataframe\"><thead><tr><th>Aktionsdiagnose kode</th><th>SKS_group</th></tr><tr><td>str</td><td>str</td></tr></thead><tbody><tr><td>&quot;DZ031DA&quot;</td><td>&quot;Faktorer af betydning for sund…</td></tr><tr><td>&quot;DR339B&quot;</td><td>&quot;Symptomer og abnorme fund IKA …</td></tr><tr><td>&quot;DI109&quot;</td><td>&quot;Sygdomme i kredsløbsorganer [D…</td></tr><tr><td>&quot;DM199&quot;</td><td>&quot;Sygdomme i knogler, muskler og…</td></tr><tr><td>&quot;DS828D&quot;</td><td>&quot;Læsioner, forgiftninger og vis…</td></tr><tr><td>&hellip;</td><td>&hellip;</td></tr><tr><td>&quot;DG403F&quot;</td><td>&quot;Sygdomme i nervesystemet [DG00…</td></tr><tr><td>&quot;DC509&quot;</td><td>&quot;Neoplasmer [DC00-DD48]&quot;</td></tr><tr><td>&quot;DJ189&quot;</td><td>&quot;Sygdomme i åndedrætsorganer [D…</td></tr><tr><td>&quot;DC209&quot;</td><td>&quot;Neoplasmer [DC00-DD48]&quot;</td></tr><tr><td>&quot;DM549&quot;</td><td>&quot;Sygdomme i knogler, muskler og…</td></tr></tbody></table></div>"
      ],
      "text/plain": [
       "shape: (65_632_899, 2)\n",
       "┌──────────────────────┬─────────────────────────────────┐\n",
       "│ Aktionsdiagnose kode ┆ SKS_group                       │\n",
       "│ ---                  ┆ ---                             │\n",
       "│ str                  ┆ str                             │\n",
       "╞══════════════════════╪═════════════════════════════════╡\n",
       "│ DZ031DA              ┆ Faktorer af betydning for sund… │\n",
       "│ DR339B               ┆ Symptomer og abnorme fund IKA … │\n",
       "│ DI109                ┆ Sygdomme i kredsløbsorganer [D… │\n",
       "│ DM199                ┆ Sygdomme i knogler, muskler og… │\n",
       "│ DS828D               ┆ Læsioner, forgiftninger og vis… │\n",
       "│ …                    ┆ …                               │\n",
       "│ DG403F               ┆ Sygdomme i nervesystemet [DG00… │\n",
       "│ DC509                ┆ Neoplasmer [DC00-DD48]          │\n",
       "│ DJ189                ┆ Sygdomme i åndedrætsorganer [D… │\n",
       "│ DC209                ┆ Neoplasmer [DC00-DD48]          │\n",
       "│ DM549                ┆ Sygdomme i knogler, muskler og… │\n",
       "└──────────────────────┴─────────────────────────────────┘"
      ]
     },
     "execution_count": 9,
     "metadata": {},
     "output_type": "execute_result"
    }
   ],
   "source": [
    "dipl.select(\n",
    "    \"Aktionsdiagnose kode\",\n",
    "    pl.col(\"Aktionsdiagnose kode\")\n",
    "    .map_elements(\n",
    "        lambda x: sks_dict.get(x, sks_dict.get(x[:-1], float(\"nan\"))),\n",
    "        return_dtype=pl.String,\n",
    "    )\n",
    "    .alias(\"SKS_group\"),\n",
    ").collect()"
   ]
  },
  {
   "cell_type": "code",
   "execution_count": 13,
   "metadata": {},
   "outputs": [
    {
     "data": {
      "text/html": [
       "<div><style>\n",
       ".dataframe > thead > tr,\n",
       ".dataframe > tbody > tr {\n",
       "  text-align: right;\n",
       "  white-space: pre-wrap;\n",
       "}\n",
       "</style>\n",
       "<small>shape: (5, 16)</small><table border=\"1\" class=\"dataframe\"><thead><tr><th>EnterpriseID</th><th>PT_ID</th><th>Blood_Test_Status</th><th>Blood_Test_Start</th><th>Blood_Test_End</th><th>Hæmoglobin;B</th><th>Leukocytter;B</th><th>Trombocytter;B</th><th>Kreatinin;P</th><th>Alanintransaminase [ALAT];P</th><th>Laktatdehydrogenase [LDH];P</th><th>Albumin;P</th><th>C-reaktivt protein [CRP];P</th><th>Laktat;P(aB)</th><th>Troponin T;P</th><th>Laktat;P(vB)</th></tr><tr><td>str</td><td>str</td><td>str</td><td>datetime[μs]</td><td>datetime[μs]</td><td>str</td><td>str</td><td>str</td><td>str</td><td>str</td><td>str</td><td>str</td><td>str</td><td>str</td><td>str</td><td>str</td></tr></thead><tbody><tr><td>&quot;E999&quot;</td><td>&quot;Z1000&quot;</td><td>&quot;Endelig&quot;</td><td>2019-05-11 12:06:00</td><td>2019-05-11 13:12:00</td><td>null</td><td>null</td><td>null</td><td>null</td><td>&quot;13&quot;</td><td>null</td><td>null</td><td>null</td><td>null</td><td>null</td><td>null</td></tr><tr><td>&quot;E999&quot;</td><td>&quot;Z1000&quot;</td><td>&quot;Endelig&quot;</td><td>2019-05-11 12:06:00</td><td>2019-05-11 12:22:00</td><td>&quot;7.9&quot;</td><td>&quot;6.2&quot;</td><td>&quot;364&quot;</td><td>null</td><td>null</td><td>null</td><td>null</td><td>null</td><td>null</td><td>null</td><td>null</td></tr><tr><td>&quot;E999&quot;</td><td>&quot;Z1000&quot;</td><td>&quot;Endelig&quot;</td><td>2019-05-11 12:06:00</td><td>2019-05-11 13:00:00</td><td>null</td><td>null</td><td>null</td><td>null</td><td>null</td><td>null</td><td>null</td><td>&quot;&lt;3&quot;</td><td>null</td><td>null</td><td>null</td></tr><tr><td>&quot;E999&quot;</td><td>&quot;Z1000&quot;</td><td>&quot;Endelig&quot;</td><td>2019-05-11 12:06:00</td><td>2019-05-11 12:55:00</td><td>null</td><td>null</td><td>null</td><td>&quot;58&quot;</td><td>null</td><td>&quot;161&quot;</td><td>&quot;46&quot;</td><td>null</td><td>null</td><td>null</td><td>null</td></tr><tr><td>&quot;E999&quot;</td><td>&quot;Z1000&quot;</td><td>&quot;Endelig&quot;</td><td>2019-05-13 13:33:00</td><td>2019-05-13 16:09:00</td><td>&quot;8.0&quot;</td><td>&quot;7.8&quot;</td><td>&quot;347&quot;</td><td>null</td><td>null</td><td>null</td><td>null</td><td>null</td><td>null</td><td>null</td><td>null</td></tr></tbody></table></div>"
      ],
      "text/plain": [
       "shape: (5, 16)\n",
       "┌────────────┬───────┬────────────┬────────────┬───┬───────────┬───────────┬───────────┬───────────┐\n",
       "│ Enterprise ┆ PT_ID ┆ Blood_Test ┆ Blood_Test ┆ … ┆ C-reaktiv ┆ Laktat;P( ┆ Troponin  ┆ Laktat;P( │\n",
       "│ ID         ┆ ---   ┆ _Status    ┆ _Start     ┆   ┆ t protein ┆ aB)       ┆ T;P       ┆ vB)       │\n",
       "│ ---        ┆ str   ┆ ---        ┆ ---        ┆   ┆ [CRP];P   ┆ ---       ┆ ---       ┆ ---       │\n",
       "│ str        ┆       ┆ str        ┆ datetime[μ ┆   ┆ ---       ┆ str       ┆ str       ┆ str       │\n",
       "│            ┆       ┆            ┆ s]         ┆   ┆ str       ┆           ┆           ┆           │\n",
       "╞════════════╪═══════╪════════════╪════════════╪═══╪═══════════╪═══════════╪═══════════╪═══════════╡\n",
       "│ E999       ┆ Z1000 ┆ Endelig    ┆ 2019-05-11 ┆ … ┆ null      ┆ null      ┆ null      ┆ null      │\n",
       "│            ┆       ┆            ┆ 12:06:00   ┆   ┆           ┆           ┆           ┆           │\n",
       "│ E999       ┆ Z1000 ┆ Endelig    ┆ 2019-05-11 ┆ … ┆ null      ┆ null      ┆ null      ┆ null      │\n",
       "│            ┆       ┆            ┆ 12:06:00   ┆   ┆           ┆           ┆           ┆           │\n",
       "│ E999       ┆ Z1000 ┆ Endelig    ┆ 2019-05-11 ┆ … ┆ <3        ┆ null      ┆ null      ┆ null      │\n",
       "│            ┆       ┆            ┆ 12:06:00   ┆   ┆           ┆           ┆           ┆           │\n",
       "│ E999       ┆ Z1000 ┆ Endelig    ┆ 2019-05-11 ┆ … ┆ null      ┆ null      ┆ null      ┆ null      │\n",
       "│            ┆       ┆            ┆ 12:06:00   ┆   ┆           ┆           ┆           ┆           │\n",
       "│ E999       ┆ Z1000 ┆ Endelig    ┆ 2019-05-13 ┆ … ┆ null      ┆ null      ┆ null      ┆ null      │\n",
       "│            ┆       ┆            ┆ 13:33:00   ┆   ┆           ┆           ┆           ┆           │\n",
       "└────────────┴───────┴────────────┴────────────┴───┴───────────┴───────────┴───────────┴───────────┘"
      ]
     },
     "execution_count": 13,
     "metadata": {},
     "output_type": "execute_result"
    }
   ],
   "source": [
    "blood.head().collect()"
   ]
  },
  {
   "cell_type": "markdown",
   "metadata": {},
   "source": [
    "### Impute median in biomarker columns from the blood tests"
   ]
  },
  {
   "cell_type": "code",
   "execution_count": 182,
   "metadata": {},
   "outputs": [],
   "source": [
    "blpl = pl.scan_parquet(f\"{data_folder}/blood_tests_newest.parquet\")"
   ]
  },
  {
   "cell_type": "code",
   "execution_count": 184,
   "metadata": {},
   "outputs": [],
   "source": [
    "columns = blpl.collect_schema().names()[-11:]"
   ]
  },
  {
   "cell_type": "code",
   "execution_count": 174,
   "metadata": {},
   "outputs": [],
   "source": [
    "for col in columns:\n",
    "    mapping = {}\n",
    "\n",
    "    # Create a temporary column with only the \"sure\"/\"true\" numbers in that column\n",
    "    sure_col = blpl.with_columns(\n",
    "        pl.col(col).cast(pl.Float64, strict=False).alias(f\"{col}_sure\")\n",
    "    ).select(f\"{col}_sure\")\n",
    "\n",
    "    # Collect all values prepended by \">\" or \"<\" in a standard list\n",
    "    old_vals = (\n",
    "        blpl.select(col)\n",
    "        .filter(pl.col(col).str.starts_with(\">\") | pl.col(col).str.starts_with(\"<\"))\n",
    "        .unique()\n",
    "        .collect()\n",
    "        .to_numpy()\n",
    "        .squeeze()\n",
    "        .tolist()\n",
    "    )\n",
    "\n",
    "    # Prepare a new list for old_vals\n",
    "    new_vals = []\n",
    "\n",
    "    for elm in old_vals:\n",
    "        # Operator \">\" or \"<\"\n",
    "        operator = elm[0]\n",
    "        # The bounding number\n",
    "        bound = float(elm[1:])\n",
    "\n",
    "        if operator == \"<\":\n",
    "            # Collect lower median\n",
    "            sure_col_filtered = sure_col.filter(pl.col(f\"{col}_sure\") < bound)\n",
    "        else:\n",
    "            # Collect upper median\n",
    "            sure_col_filtered = sure_col.filter(pl.col(f\"{col}_sure\") > bound)\n",
    "\n",
    "        mapping[elm] = sure_col_filtered.median().collect().item()\n",
    "\n",
    "    blpl = blpl.with_columns(\n",
    "        pl.col(col)\n",
    "        # Replace old values by new values\n",
    "        .replace(mapping)\n",
    "        # Force cast to float again now that we fixed all the problematic values\n",
    "        .cast(pl.Float64, strict=False)\n",
    "        # Create a new column\n",
    "        .alias(f\"{col}_imputed\")\n",
    "    )"
   ]
  },
  {
   "cell_type": "code",
   "execution_count": 175,
   "metadata": {},
   "outputs": [
    {
     "data": {
      "text/html": [
       "<div><style>\n",
       ".dataframe > thead > tr,\n",
       ".dataframe > tbody > tr {\n",
       "  text-align: right;\n",
       "  white-space: pre-wrap;\n",
       "}\n",
       "</style>\n",
       "<small>shape: (39_155_052, 27)</small><table border=\"1\" class=\"dataframe\"><thead><tr><th>EnterpriseID</th><th>PT_ID</th><th>Blood_Test_Status</th><th>Blood_Test_Start</th><th>Blood_Test_End</th><th>Hæmoglobin;B</th><th>Leukocytter;B</th><th>Trombocytter;B</th><th>Kreatinin;P</th><th>Alanintransaminase [ALAT];P</th><th>Laktatdehydrogenase [LDH];P</th><th>Albumin;P</th><th>C-reaktivt protein [CRP];P</th><th>Laktat;P(aB)</th><th>Troponin T;P</th><th>Laktat;P(vB)</th><th>Hæmoglobin;B_imputed</th><th>Leukocytter;B_imputed</th><th>Trombocytter;B_imputed</th><th>Kreatinin;P_imputed</th><th>Alanintransaminase [ALAT];P_imputed</th><th>Laktatdehydrogenase [LDH];P_imputed</th><th>Albumin;P_imputed</th><th>C-reaktivt protein [CRP];P_imputed</th><th>Laktat;P(aB)_imputed</th><th>Troponin T;P_imputed</th><th>Laktat;P(vB)_imputed</th></tr><tr><td>str</td><td>str</td><td>str</td><td>datetime[μs]</td><td>datetime[μs]</td><td>str</td><td>str</td><td>str</td><td>str</td><td>str</td><td>str</td><td>str</td><td>str</td><td>str</td><td>str</td><td>str</td><td>f64</td><td>f64</td><td>f64</td><td>f64</td><td>f64</td><td>f64</td><td>f64</td><td>f64</td><td>f64</td><td>f64</td><td>f64</td></tr></thead><tbody><tr><td>&quot;E999&quot;</td><td>&quot;Z1000&quot;</td><td>&quot;Endelig&quot;</td><td>2019-05-11 12:06:00</td><td>2019-05-11 13:12:00</td><td>null</td><td>null</td><td>null</td><td>null</td><td>&quot;13&quot;</td><td>null</td><td>null</td><td>null</td><td>null</td><td>null</td><td>null</td><td>null</td><td>null</td><td>null</td><td>null</td><td>13.0</td><td>null</td><td>null</td><td>null</td><td>null</td><td>null</td><td>null</td></tr><tr><td>&quot;E999&quot;</td><td>&quot;Z1000&quot;</td><td>&quot;Endelig&quot;</td><td>2019-05-11 12:06:00</td><td>2019-05-11 12:22:00</td><td>&quot;7.9&quot;</td><td>&quot;6.2&quot;</td><td>&quot;364&quot;</td><td>null</td><td>null</td><td>null</td><td>null</td><td>null</td><td>null</td><td>null</td><td>null</td><td>7.9</td><td>6.2</td><td>364.0</td><td>null</td><td>null</td><td>null</td><td>null</td><td>null</td><td>null</td><td>null</td><td>null</td></tr><tr><td>&quot;E999&quot;</td><td>&quot;Z1000&quot;</td><td>&quot;Endelig&quot;</td><td>2019-05-11 12:06:00</td><td>2019-05-11 13:00:00</td><td>null</td><td>null</td><td>null</td><td>null</td><td>null</td><td>null</td><td>null</td><td>&quot;&lt;3&quot;</td><td>null</td><td>null</td><td>null</td><td>null</td><td>null</td><td>null</td><td>null</td><td>null</td><td>null</td><td>null</td><td>1.4</td><td>null</td><td>null</td><td>null</td></tr><tr><td>&quot;E999&quot;</td><td>&quot;Z1000&quot;</td><td>&quot;Endelig&quot;</td><td>2019-05-11 12:06:00</td><td>2019-05-11 12:55:00</td><td>null</td><td>null</td><td>null</td><td>&quot;58&quot;</td><td>null</td><td>&quot;161&quot;</td><td>&quot;46&quot;</td><td>null</td><td>null</td><td>null</td><td>null</td><td>null</td><td>null</td><td>null</td><td>58.0</td><td>null</td><td>161.0</td><td>46.0</td><td>null</td><td>null</td><td>null</td><td>null</td></tr><tr><td>&quot;E999&quot;</td><td>&quot;Z1000&quot;</td><td>&quot;Endelig&quot;</td><td>2019-05-13 13:33:00</td><td>2019-05-13 16:09:00</td><td>&quot;8.0&quot;</td><td>&quot;7.8&quot;</td><td>&quot;347&quot;</td><td>null</td><td>null</td><td>null</td><td>null</td><td>null</td><td>null</td><td>null</td><td>null</td><td>8.0</td><td>7.8</td><td>347.0</td><td>null</td><td>null</td><td>null</td><td>null</td><td>null</td><td>null</td><td>null</td><td>null</td></tr><tr><td>&hellip;</td><td>&hellip;</td><td>&hellip;</td><td>&hellip;</td><td>&hellip;</td><td>&hellip;</td><td>&hellip;</td><td>&hellip;</td><td>&hellip;</td><td>&hellip;</td><td>&hellip;</td><td>&hellip;</td><td>&hellip;</td><td>&hellip;</td><td>&hellip;</td><td>&hellip;</td><td>&hellip;</td><td>&hellip;</td><td>&hellip;</td><td>&hellip;</td><td>&hellip;</td><td>&hellip;</td><td>&hellip;</td><td>&hellip;</td><td>&hellip;</td><td>&hellip;</td><td>&hellip;</td></tr><tr><td>&quot;E999995&quot;</td><td>&quot;Z999996&quot;</td><td>&quot;Endelig&quot;</td><td>2021-07-25 15:17:00</td><td>2021-07-25 15:19:00</td><td>null</td><td>null</td><td>null</td><td>null</td><td>null</td><td>null</td><td>null</td><td>null</td><td>null</td><td>null</td><td>&quot;0.9&quot;</td><td>null</td><td>null</td><td>null</td><td>null</td><td>null</td><td>null</td><td>null</td><td>null</td><td>null</td><td>null</td><td>0.9</td></tr><tr><td>&quot;E999995&quot;</td><td>&quot;Z999996&quot;</td><td>&quot;Endelig&quot;</td><td>2021-07-25 15:26:00</td><td>2021-07-25 15:43:00</td><td>&quot;8.2&quot;</td><td>&quot;7.2&quot;</td><td>&quot;224&quot;</td><td>null</td><td>null</td><td>null</td><td>null</td><td>null</td><td>null</td><td>null</td><td>null</td><td>8.2</td><td>7.2</td><td>224.0</td><td>null</td><td>null</td><td>null</td><td>null</td><td>null</td><td>null</td><td>null</td><td>null</td></tr><tr><td>&quot;E999995&quot;</td><td>&quot;Z999996&quot;</td><td>&quot;Endelig&quot;</td><td>2021-07-25 15:26:00</td><td>2021-07-25 16:08:00</td><td>null</td><td>null</td><td>null</td><td>&quot;59&quot;</td><td>&quot;33&quot;</td><td>null</td><td>&quot;38&quot;</td><td>&quot;&lt;1&quot;</td><td>null</td><td>null</td><td>null</td><td>null</td><td>null</td><td>null</td><td>59.0</td><td>33.0</td><td>null</td><td>38.0</td><td>0.7</td><td>null</td><td>null</td><td>null</td></tr><tr><td>&quot;E999995&quot;</td><td>&quot;Z999996&quot;</td><td>&quot;Endelig&quot;</td><td>2022-08-19 09:38:00</td><td>2022-08-19 14:28:00</td><td>&quot;9.1&quot;</td><td>&quot;6.3&quot;</td><td>&quot;213&quot;</td><td>null</td><td>null</td><td>null</td><td>null</td><td>null</td><td>null</td><td>null</td><td>null</td><td>9.1</td><td>6.3</td><td>213.0</td><td>null</td><td>null</td><td>null</td><td>null</td><td>null</td><td>null</td><td>null</td><td>null</td></tr><tr><td>&quot;E999995&quot;</td><td>&quot;Z999996&quot;</td><td>&quot;Endelig&quot;</td><td>2022-08-19 09:38:00</td><td>2022-08-19 14:40:00</td><td>null</td><td>null</td><td>null</td><td>&quot;65&quot;</td><td>&quot;35&quot;</td><td>null</td><td>null</td><td>null</td><td>null</td><td>null</td><td>null</td><td>null</td><td>null</td><td>null</td><td>65.0</td><td>35.0</td><td>null</td><td>null</td><td>null</td><td>null</td><td>null</td><td>null</td></tr></tbody></table></div>"
      ],
      "text/plain": [
       "shape: (39_155_052, 27)\n",
       "┌────────────┬─────────┬───────────┬───────────┬───┬───────────┬───────────┬───────────┬───────────┐\n",
       "│ Enterprise ┆ PT_ID   ┆ Blood_Tes ┆ Blood_Tes ┆ … ┆ C-reaktiv ┆ Laktat;P( ┆ Troponin  ┆ Laktat;P( │\n",
       "│ ID         ┆ ---     ┆ t_Status  ┆ t_Start   ┆   ┆ t protein ┆ aB)_imput ┆ T;P_imput ┆ vB)_imput │\n",
       "│ ---        ┆ str     ┆ ---       ┆ ---       ┆   ┆ [CRP];P_i ┆ ed        ┆ ed        ┆ ed        │\n",
       "│ str        ┆         ┆ str       ┆ datetime[ ┆   ┆ mp…       ┆ ---       ┆ ---       ┆ ---       │\n",
       "│            ┆         ┆           ┆ μs]       ┆   ┆ ---       ┆ f64       ┆ f64       ┆ f64       │\n",
       "│            ┆         ┆           ┆           ┆   ┆ f64       ┆           ┆           ┆           │\n",
       "╞════════════╪═════════╪═══════════╪═══════════╪═══╪═══════════╪═══════════╪═══════════╪═══════════╡\n",
       "│ E999       ┆ Z1000   ┆ Endelig   ┆ 2019-05-1 ┆ … ┆ null      ┆ null      ┆ null      ┆ null      │\n",
       "│            ┆         ┆           ┆ 1         ┆   ┆           ┆           ┆           ┆           │\n",
       "│            ┆         ┆           ┆ 12:06:00  ┆   ┆           ┆           ┆           ┆           │\n",
       "│ E999       ┆ Z1000   ┆ Endelig   ┆ 2019-05-1 ┆ … ┆ null      ┆ null      ┆ null      ┆ null      │\n",
       "│            ┆         ┆           ┆ 1         ┆   ┆           ┆           ┆           ┆           │\n",
       "│            ┆         ┆           ┆ 12:06:00  ┆   ┆           ┆           ┆           ┆           │\n",
       "│ E999       ┆ Z1000   ┆ Endelig   ┆ 2019-05-1 ┆ … ┆ 1.4       ┆ null      ┆ null      ┆ null      │\n",
       "│            ┆         ┆           ┆ 1         ┆   ┆           ┆           ┆           ┆           │\n",
       "│            ┆         ┆           ┆ 12:06:00  ┆   ┆           ┆           ┆           ┆           │\n",
       "│ E999       ┆ Z1000   ┆ Endelig   ┆ 2019-05-1 ┆ … ┆ null      ┆ null      ┆ null      ┆ null      │\n",
       "│            ┆         ┆           ┆ 1         ┆   ┆           ┆           ┆           ┆           │\n",
       "│            ┆         ┆           ┆ 12:06:00  ┆   ┆           ┆           ┆           ┆           │\n",
       "│ E999       ┆ Z1000   ┆ Endelig   ┆ 2019-05-1 ┆ … ┆ null      ┆ null      ┆ null      ┆ null      │\n",
       "│            ┆         ┆           ┆ 3         ┆   ┆           ┆           ┆           ┆           │\n",
       "│            ┆         ┆           ┆ 13:33:00  ┆   ┆           ┆           ┆           ┆           │\n",
       "│ …          ┆ …       ┆ …         ┆ …         ┆ … ┆ …         ┆ …         ┆ …         ┆ …         │\n",
       "│ E999995    ┆ Z999996 ┆ Endelig   ┆ 2021-07-2 ┆ … ┆ null      ┆ null      ┆ null      ┆ 0.9       │\n",
       "│            ┆         ┆           ┆ 5         ┆   ┆           ┆           ┆           ┆           │\n",
       "│            ┆         ┆           ┆ 15:17:00  ┆   ┆           ┆           ┆           ┆           │\n",
       "│ E999995    ┆ Z999996 ┆ Endelig   ┆ 2021-07-2 ┆ … ┆ null      ┆ null      ┆ null      ┆ null      │\n",
       "│            ┆         ┆           ┆ 5         ┆   ┆           ┆           ┆           ┆           │\n",
       "│            ┆         ┆           ┆ 15:26:00  ┆   ┆           ┆           ┆           ┆           │\n",
       "│ E999995    ┆ Z999996 ┆ Endelig   ┆ 2021-07-2 ┆ … ┆ 0.7       ┆ null      ┆ null      ┆ null      │\n",
       "│            ┆         ┆           ┆ 5         ┆   ┆           ┆           ┆           ┆           │\n",
       "│            ┆         ┆           ┆ 15:26:00  ┆   ┆           ┆           ┆           ┆           │\n",
       "│ E999995    ┆ Z999996 ┆ Endelig   ┆ 2022-08-1 ┆ … ┆ null      ┆ null      ┆ null      ┆ null      │\n",
       "│            ┆         ┆           ┆ 9         ┆   ┆           ┆           ┆           ┆           │\n",
       "│            ┆         ┆           ┆ 09:38:00  ┆   ┆           ┆           ┆           ┆           │\n",
       "│ E999995    ┆ Z999996 ┆ Endelig   ┆ 2022-08-1 ┆ … ┆ null      ┆ null      ┆ null      ┆ null      │\n",
       "│            ┆         ┆           ┆ 9         ┆   ┆           ┆           ┆           ┆           │\n",
       "│            ┆         ┆           ┆ 09:38:00  ┆   ┆           ┆           ┆           ┆           │\n",
       "└────────────┴─────────┴───────────┴───────────┴───┴───────────┴───────────┴───────────┴───────────┘"
      ]
     },
     "execution_count": 175,
     "metadata": {},
     "output_type": "execute_result"
    }
   ],
   "source": [
    "# Collect everything\n",
    "blpl.collect()"
   ]
  }
 ],
 "metadata": {
  "kernelspec": {
   "display_name": "ada",
   "language": "python",
   "name": "python3"
  },
  "language_info": {
   "codemirror_mode": {
    "name": "ipython",
    "version": 3
   },
   "file_extension": ".py",
   "mimetype": "text/x-python",
   "name": "python",
   "nbconvert_exporter": "python",
   "pygments_lexer": "ipython3",
   "version": "3.10.10"
  }
 },
 "nbformat": 4,
 "nbformat_minor": 2
}
